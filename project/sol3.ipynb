{
 "cells": [
  {
   "cell_type": "code",
   "execution_count": 1,
   "metadata": {},
   "outputs": [],
   "source": [
    "import time\n",
    "import copy\n",
    "import matplotlib.pyplot as plt\n",
    "\n",
    "import torch\n",
    "import torch.optim\n",
    "import torch.nn as nn\n",
    "import torch.nn.functional as F\n",
    "\n",
    "import torchvision\n",
    "import torchvision.transforms as transforms\n",
    "import torchvision.models as models\n",
    "\n",
    "from finetune.cifar10_models import resnet18"
   ]
  },
  {
   "cell_type": "markdown",
   "metadata": {},
   "source": [
    "# Pre-trained models for dissimilar data\n",
    "\n",
    "Previously, we have seen the power of pre-trained models in classification of images. In this problem, we show the utility of pre-trained models when performing tasks that are dissimilar to the one they were trained for.\n",
    "\n",
    "Run the code below to download and visualize the data. It may take a couple minutes to download the data."
   ]
  },
  {
   "cell_type": "code",
   "execution_count": 2,
   "metadata": {},
   "outputs": [
    {
     "name": "stdout",
     "output_type": "stream",
     "text": [
      "Downloading http://fashion-mnist.s3-website.eu-central-1.amazonaws.com/train-images-idx3-ubyte.gz to data/FashionMNIST/raw/train-images-idx3-ubyte.gz\n"
     ]
    },
    {
     "data": {
      "application/vnd.jupyter.widget-view+json": {
       "model_id": "7ca38a93dcc94db8ab6219d1714a4701",
       "version_major": 2,
       "version_minor": 0
      },
      "text/plain": [
       "HBox(children=(HTML(value=''), FloatProgress(value=1.0, bar_style='info', layout=Layout(width='20px'), max=1.0…"
      ]
     },
     "metadata": {},
     "output_type": "display_data"
    },
    {
     "name": "stdout",
     "output_type": "stream",
     "text": [
      "Extracting data/FashionMNIST/raw/train-images-idx3-ubyte.gz to data/FashionMNIST/raw\n",
      "Downloading http://fashion-mnist.s3-website.eu-central-1.amazonaws.com/train-labels-idx1-ubyte.gz to data/FashionMNIST/raw/train-labels-idx1-ubyte.gz\n"
     ]
    },
    {
     "data": {
      "application/vnd.jupyter.widget-view+json": {
       "model_id": "5ef17a0b6a0d43eba38bc69c1d7f0444",
       "version_major": 2,
       "version_minor": 0
      },
      "text/plain": [
       "HBox(children=(HTML(value=''), FloatProgress(value=1.0, bar_style='info', layout=Layout(width='20px'), max=1.0…"
      ]
     },
     "metadata": {},
     "output_type": "display_data"
    },
    {
     "name": "stdout",
     "output_type": "stream",
     "text": [
      "Extracting data/FashionMNIST/raw/train-labels-idx1-ubyte.gz to data/FashionMNIST/raw\n",
      "Downloading http://fashion-mnist.s3-website.eu-central-1.amazonaws.com/t10k-images-idx3-ubyte.gz to data/FashionMNIST/raw/t10k-images-idx3-ubyte.gz\n"
     ]
    },
    {
     "data": {
      "application/vnd.jupyter.widget-view+json": {
       "model_id": "fe1ce9ee667243ad8cc7765f740e9da9",
       "version_major": 2,
       "version_minor": 0
      },
      "text/plain": [
       "HBox(children=(HTML(value=''), FloatProgress(value=1.0, bar_style='info', layout=Layout(width='20px'), max=1.0…"
      ]
     },
     "metadata": {},
     "output_type": "display_data"
    },
    {
     "name": "stdout",
     "output_type": "stream",
     "text": [
      "\n",
      "Extracting data/FashionMNIST/raw/t10k-images-idx3-ubyte.gz to data/FashionMNIST/raw\n",
      "Downloading http://fashion-mnist.s3-website.eu-central-1.amazonaws.com/t10k-labels-idx1-ubyte.gz to data/FashionMNIST/raw/t10k-labels-idx1-ubyte.gz\n"
     ]
    },
    {
     "data": {
      "application/vnd.jupyter.widget-view+json": {
       "model_id": "b64adaaa203849949c235c4dfc60e463",
       "version_major": 2,
       "version_minor": 0
      },
      "text/plain": [
       "HBox(children=(HTML(value=''), FloatProgress(value=1.0, bar_style='info', layout=Layout(width='20px'), max=1.0…"
      ]
     },
     "metadata": {},
     "output_type": "display_data"
    },
    {
     "name": "stdout",
     "output_type": "stream",
     "text": [
      "Extracting data/FashionMNIST/raw/t10k-labels-idx1-ubyte.gz to data/FashionMNIST/raw\n",
      "Processing...\n",
      "Done!\n"
     ]
    },
    {
     "name": "stderr",
     "output_type": "stream",
     "text": [
      "/home/arnav/Documents/project-t/env/lib/python3.6/site-packages/torchvision/datasets/mnist.py:480: UserWarning: The given NumPy array is not writeable, and PyTorch does not support non-writeable tensors. This means you can write to the underlying (supposedly non-writeable) NumPy array using the tensor. You may want to copy the array to protect its data or make it writeable before converting it to a tensor. This type of warning will be suppressed for the rest of this program. (Triggered internally at  /pytorch/torch/csrc/utils/tensor_numpy.cpp:141.)\n",
      "  return torch.from_numpy(parsed.astype(m[2], copy=False)).view(*s)\n"
     ]
    },
    {
     "name": "stdout",
     "output_type": "stream",
     "text": [
      "Files already downloaded and verified\n"
     ]
    }
   ],
   "source": [
    "class_label_to_name = {0: \"T-shirt/top\",\n",
    "                        1: \"Trouser\",\n",
    "                        2: \"Pullover\",\n",
    "                        3: \"Dress\",\n",
    "                        4: \"Coat\",\n",
    "                        5: \"Sandal\",\n",
    "                        6: \"Shirt\",\n",
    "                        7: \"Sneaker\",\n",
    "                        8: \"Bag\",\n",
    "                        9: \"Ankle boot\"}\n",
    "\n",
    "# transforms to match mean and std of original dataset\n",
    "trfms = transforms.Compose([transforms.ToTensor(),\n",
    "                            transforms.Normalize([0.4914], [0.2470])])\n",
    "\n",
    "# download the data\n",
    "dataset = torchvision.datasets.FashionMNIST('data', transform=trfms, download=True)\n",
    "val_dataset = torchvision.datasets.FashionMNIST('data', transform=trfms, train=False, download=True)\n",
    "\n",
    "cifar10 = torchvision.datasets.CIFAR10('data', download=True)"
   ]
  },
  {
   "cell_type": "markdown",
   "metadata": {},
   "source": [
    "## Part a\n",
    "\n",
    "For this question, we will be working with ResNet-18 pre-trained on ImageNet. Our task will be to classify types of clothing from a dataset called Fashion-MNIST.\n",
    "\n",
    "First, let's visualize the data from both datasets. Run the following cells and then answer the questions below."
   ]
  },
  {
   "cell_type": "code",
   "execution_count": 4,
   "metadata": {
    "scrolled": false
   },
   "outputs": [
    {
     "data": {
      "image/png": "[encoded data removed]",
      "text/plain": [
       "<Figure size 432x288 with 1 Axes>"
      ]
     },
     "metadata": {
      "needs_background": "light"
     },
     "output_type": "display_data"
    },
    {
     "data": {
      "image/png": "[encoded data removed]",
      "text/plain": [
       "<Figure size 432x288 with 1 Axes>"
      ]
     },
     "metadata": {
      "needs_background": "light"
     },
     "output_type": "display_data"
    },
    {
     "data": {
      "image/png": "[encoded data removed]",
      "text/plain": [
       "<Figure size 432x288 with 1 Axes>"
      ]
     },
     "metadata": {
      "needs_background": "light"
     },
     "output_type": "display_data"
    },
    {
     "data": {
      "image/png": "[encoded data removed]",
      "text/plain": [
       "<Figure size 432x288 with 1 Axes>"
      ]
     },
     "metadata": {
      "needs_background": "light"
     },
     "output_type": "display_data"
    },
    {
     "name": "stdout",
     "output_type": "stream",
     "text": [
      "\n"
     ]
    },
    {
     "data": {
      "image/png": "[encoded data removed]",
      "text/plain": [
       "<Figure size 432x288 with 1 Axes>"
      ]
     },
     "metadata": {
      "needs_background": "light"
     },
     "output_type": "display_data"
    },
    {
     "data": {
      "image/png": "[encoded data removed]",
      "text/plain": [
       "<Figure size 432x288 with 1 Axes>"
      ]
     },
     "metadata": {
      "needs_background": "light"
     },
     "output_type": "display_data"
    }
   ],
   "source": [
    "for i, data in enumerate(dataset):\n",
    "    if i > 2:\n",
    "        break\n",
    "    img, label = data\n",
    "    img = img.numpy().squeeze()\n",
    "    plt.imshow(img, cmap='gray')\n",
    "    plt.title(class_label_to_name[label])\n",
    "    plt.show()\n",
    "    \n",
    "for i, data in enumerate(cifar10):\n",
    "    if i > 2: \n",
    "        break\n",
    "    img, label = data\n",
    "    plt.imshow(img)\n",
    "    plt.show()\n"
   ]
  },
  {
   "cell_type": "markdown",
   "metadata": {},
   "source": [
    "## What do you observe about the data?\n",
    "\n",
    "### Solution\n",
    "The data is black and white and all have black backgrounds. They are not natural images like those in Cifar-10.\n",
    "\n",
    "## Looking at the data, how do you think each of these models will perform and why?\n",
    "\n",
    "1. A basic CNN\n",
    "\n",
    "2. A pre-trained model with no extra training\n",
    "\n",
    "3. A pre-trained model with all but the last layer frozen\n",
    "\n",
    "4. A basic CNN using a pre-trained model for feature extraction\n",
    "\n",
    "### Solution\n",
    "Any answer is fine."
   ]
  },
  {
   "cell_type": "markdown",
   "metadata": {},
   "source": [
    "# Part b\n",
    "Now we will implement a basic CNN in order to benchmark performance on this task. Fill in the get_width function the same as you did in question 2. You may use your code from previous parts or choose a new architecture for this problem."
   ]
  },
  {
   "cell_type": "code",
   "execution_count": 5,
   "metadata": {},
   "outputs": [],
   "source": [
    "class ConvNet(nn.Module):\n",
    "    def __init__(self, num_classes, input_width, input_height, num_channels, num_layers=2, num_filters=[10, 20], kernel_sizes=[5, 5], pool=[True, True]):\n",
    "        super(ConvNet, self).__init__()\n",
    "        \n",
    "        assert len(num_filters) == num_layers, 'length of num_filters must match num_layers'\n",
    "        assert len(kernel_sizes) == num_layers, 'length of kernel_sizes must match num_layers'\n",
    "        assert len(pool) == num_layers, 'length of pool must match num_layers'\n",
    "        \n",
    "        self.num_classes = num_classes\n",
    "        num_filters = [num_channels] + num_filters\n",
    "\n",
    "        self.widths = [input_width]\n",
    "        self.heights = [input_height]\n",
    "\n",
    "        layers = []\n",
    "        for layer in range(num_layers):\n",
    "            layers.append(nn.Conv2d(num_filters[layer], num_filters[layer + 1], kernel_size=kernel_sizes[layer]))\n",
    "\n",
    "            if pool[layer]:\n",
    "                layers.append(nn.MaxPool2d(kernel_size=2))\n",
    "            layers.append(nn.ReLU())\n",
    "\n",
    "            self.widths.append(self.get_width(self.widths[-1], kernel_sizes[layer], pool[layer]))\n",
    "            self.heights.append(self.get_width(self.heights[-1], kernel_sizes[layer], pool[layer]))\n",
    "        \n",
    "        self.convs = torch.nn.Sequential(*layers)\n",
    "\n",
    "        self.ff_in_dim = self.widths[-1] * self.heights[-1] * num_filters[-1]\n",
    "        self.fc1 = nn.Linear(self.ff_in_dim, 128)\n",
    "        self.fc2 = nn.Linear(128, num_classes)\n",
    "\n",
    "    def forward(self, x):\n",
    "        x = self.convs(x)\n",
    "        x = torch.flatten(x, 1)\n",
    "        x = F.relu(self.fc1(x))\n",
    "        \n",
    "        return self.fc2(x)\n",
    "    \n",
    "    # assume max pool with filter width 2 and stride 2\n",
    "    def get_width(self, input_width, kernel_size, pool):\n",
    "        ### TODO complete this function\n",
    "        conv_width = (input_width - (kernel_size - 1))\n",
    "        if pool:\n",
    "            conv_width = conv_width // 2\n",
    "        ### End TODO\n",
    "        return conv_width\n",
    "    "
   ]
  },
  {
   "cell_type": "markdown",
   "metadata": {},
   "source": [
    "Now we will create our simple CNN just like we did in problem 2. Determine the size of our input and output (how did you do this in problem 2?) and print out the model architecture and verify this is what you expect."
   ]
  },
  {
   "cell_type": "code",
   "execution_count": 6,
   "metadata": {},
   "outputs": [
    {
     "name": "stdout",
     "output_type": "stream",
     "text": [
      "ConvNet(\n",
      "  (convs): Sequential(\n",
      "    (0): Conv2d(1, 10, kernel_size=(5, 5), stride=(1, 1))\n",
      "    (1): MaxPool2d(kernel_size=2, stride=2, padding=0, dilation=1, ceil_mode=False)\n",
      "    (2): ReLU()\n",
      "    (3): Conv2d(10, 20, kernel_size=(5, 5), stride=(1, 1))\n",
      "    (4): MaxPool2d(kernel_size=2, stride=2, padding=0, dilation=1, ceil_mode=False)\n",
      "    (5): ReLU()\n",
      "  )\n",
      "  (fc1): Linear(in_features=320, out_features=128, bias=True)\n",
      "  (fc2): Linear(in_features=128, out_features=10, bias=True)\n",
      ")\n"
     ]
    }
   ],
   "source": [
    "# TODO create the ConvNet with the correct input and output size\n",
    "num_classes = 10\n",
    "input_width = 28\n",
    "input_height = 28\n",
    "num_channels = 1\n",
    "\n",
    "# End TODO\n",
    "cnn = ConvNet(num_classes, input_width, input_height, num_channels)\n",
    "print(cnn)"
   ]
  },
  {
   "cell_type": "markdown",
   "metadata": {},
   "source": [
    "Now we will define a training loop and train our CNN on this dataset. Fill in the code below in order to complete the training loop. You may use code from previous parts if you would like, but it is good to get practice with this since it is a fairly common pattern."
   ]
  },
  {
   "cell_type": "code",
   "execution_count": 12,
   "metadata": {},
   "outputs": [],
   "source": [
    "def train_model(model, dataloaders, criterion, feature_extract=True, num_epochs=25):\n",
    "    \"\"\"Train a model and save best weights\n",
    "    \n",
    "    Adapted From:\n",
    "        https://pytorch.org/tutorials/beginner/finetuning_torchvision_models_tutorial.html\n",
    "    \n",
    "    Args:\n",
    "        model (nn.Module): Model to train\n",
    "        dataloaders ([dataloader, dataloader]): Training dataloader and validation dataloader\n",
    "        criterion (function): Loss function\n",
    "        optimizer (torch.optim): Optimizer for training\n",
    "        num_epochs (int, optional): Number of epochs to train for. Defaults to 25.\n",
    "    Returns:\n",
    "        (model, validation_accuracy): Model with best weights, Array of validation loss over training\n",
    "    \"\"\"\n",
    "    since = time.time()\n",
    "    \n",
    "    params_to_update = model.parameters()\n",
    "    print(\"Params to learn:\")\n",
    "    if feature_extract:\n",
    "        params_to_update = []\n",
    "        for name,param in model.named_parameters():\n",
    "            if param.requires_grad == True:\n",
    "                params_to_update.append(param)\n",
    "                print(\"\\t\",name)\n",
    "    else:\n",
    "        for name,param in model.named_parameters():\n",
    "            if param.requires_grad == True:\n",
    "                print(\"\\t\",name)\n",
    "\n",
    "    # optimizer only updates parameters that are un-frozen\n",
    "    optimizer = torch.optim.SGD(params_to_update, lr=0.001, momentum=0.9)\n",
    "    \n",
    "    val_acc_history = []\n",
    "\n",
    "    best_model_wts = copy.deepcopy(model.state_dict())\n",
    "    best_acc = 0.0\n",
    "\n",
    "    # Useful if your environment supports CUDA; don't worry about it if it doesn't\n",
    "    device = torch.device(\"cuda:0\" if torch.cuda.is_available() else \"cpu\")\n",
    "    model = model.to(device)\n",
    "    \n",
    "    for epoch in range(num_epochs):\n",
    "        print('Epoch {}/{}'.format(epoch, num_epochs - 1))\n",
    "        print('-' * 10)\n",
    "\n",
    "        # Each epoch has a training and validation phase\n",
    "        for phase in ['train', 'val']:\n",
    "            if phase == 'train' and not feature_extract:\n",
    "                model.train()  # Set model to training mode\n",
    "            else:\n",
    "                model.eval()   # Set model to evaluate mode\n",
    "\n",
    "            running_loss = 0.0\n",
    "            running_corrects = 0\n",
    "\n",
    "            # Iterate over data.\n",
    "            for inputs, labels in dataloaders[phase]:\n",
    "                # zero the parameter gradients\n",
    "                optimizer.zero_grad()\n",
    "\n",
    "                # forward\n",
    "                # track history if only in train\n",
    "                with torch.set_grad_enabled(phase == 'train'):\n",
    "                    inputs, labels = inputs.to(device), labels.to(device)\n",
    "                    \n",
    "                    ### TODO complete training loop\n",
    "                    outputs = model(inputs)\n",
    "                    loss = criterion(outputs, labels)\n",
    "\n",
    "                    # backward + optimize only if in training phase\n",
    "                    if phase == 'train':\n",
    "                        loss.backward()\n",
    "                        optimizer.step()\n",
    "                    ### end TODO\n",
    "                    \n",
    "                # statistics\n",
    "                running_loss += loss.item() * inputs.size(0)\n",
    "                \n",
    "                _, preds = torch.max(outputs, 1)\n",
    "                running_corrects += torch.sum(preds == labels.data)\n",
    "\n",
    "            epoch_loss = running_loss / len(dataloaders[phase].dataset)\n",
    "            epoch_acc = running_corrects.double() / len(dataloaders[phase].dataset)\n",
    "\n",
    "            print('{} Loss: {:.4f} Acc: {:.4f}'.format(phase, epoch_loss, epoch_acc))\n",
    "\n",
    "            # deep copy the model\n",
    "            if phase == 'val' and epoch_acc > best_acc:\n",
    "                best_acc = epoch_acc\n",
    "                best_model_wts = copy.deepcopy(model.state_dict())\n",
    "            if phase == 'val':\n",
    "                val_acc_history.append(epoch_acc)\n",
    "\n",
    "        print()\n",
    "\n",
    "    time_elapsed = time.time() - since\n",
    "    print('Training complete in {:.0f}m {:.0f}s'.format(time_elapsed // 60, time_elapsed % 60))\n",
    "    print('Best val Acc: {:4f}'.format(best_acc))\n",
    "\n",
    "    # load best model weights\n",
    "    model.load_state_dict(best_model_wts)\n",
    "    return model, val_acc_history\n",
    "\n",
    "def visualize_model(model, dataloaders, num_images=6):\n",
    "    # @source https://pytorch.org/tutorials/beginner/transfer_learning_tutorial.html\n",
    "    was_training = model.training\n",
    "    model.eval()\n",
    "    images_so_far = 0\n",
    "    fig = plt.figure()\n",
    "    \n",
    "    # Useful if your environment supports CUDA; don't worry about it if it doesn't\n",
    "    device = torch.device(\"cuda:0\" if torch.cuda.is_available() else \"cpu\")\n",
    "    model = model.to(device)\n",
    "\n",
    "    with torch.no_grad():\n",
    "        for i, (inputs, labels) in enumerate(dataloaders['val']):\n",
    "            inputs, labels = inputs.to(device), labels.to(device)\n",
    "            outputs = model(inputs)\n",
    "            _, preds = torch.max(outputs, 1)\n",
    "\n",
    "            for j in range(inputs.size()[0]):\n",
    "                images_so_far += 1\n",
    "                ax = plt.subplot(num_images//2, 2, images_so_far)\n",
    "                ax.axis('off')\n",
    "                ax.set_title('predicted: {}'.format(class_label_to_name[preds[j].item()]))\n",
    "                plt.imshow(inputs.data[j].cpu().numpy().transpose(1, 2, 0).squeeze().clip(0, 1), cmap='gray')\n",
    "\n",
    "                if images_so_far == num_images:\n",
    "                    model.train(mode=was_training)\n",
    "                    return\n",
    "        model.train(mode=was_training)"
   ]
  },
  {
   "cell_type": "markdown",
   "metadata": {},
   "source": [
    "Run the cell below in order to train your cnn. This should take about ~5 minutes for 10 epochs if you're using the default architecture. Does the performance match what you were expecting?"
   ]
  },
  {
   "cell_type": "code",
   "execution_count": 8,
   "metadata": {
    "scrolled": true
   },
   "outputs": [
    {
     "name": "stdout",
     "output_type": "stream",
     "text": [
      "Params to learn:\n",
      "\t convs.0.weight\n",
      "\t convs.0.bias\n",
      "\t convs.3.weight\n",
      "\t convs.3.bias\n",
      "\t fc1.weight\n",
      "\t fc1.bias\n",
      "\t fc2.weight\n",
      "\t fc2.bias\n",
      "Epoch 0/9\n",
      "----------\n",
      "train Loss: 0.7641 Acc: 0.7232\n",
      "val Loss: 0.5459 Acc: 0.7968\n",
      "\n",
      "Epoch 1/9\n",
      "----------\n",
      "train Loss: 0.4713 Acc: 0.8274\n",
      "val Loss: 0.4419 Acc: 0.8430\n",
      "\n",
      "Epoch 2/9\n",
      "----------\n",
      "train Loss: 0.3970 Acc: 0.8563\n",
      "val Loss: 0.3912 Acc: 0.8575\n",
      "\n",
      "Epoch 3/9\n",
      "----------\n",
      "train Loss: 0.3592 Acc: 0.8697\n",
      "val Loss: 0.3729 Acc: 0.8652\n",
      "\n",
      "Epoch 4/9\n",
      "----------\n",
      "train Loss: 0.3355 Acc: 0.8784\n",
      "val Loss: 0.3823 Acc: 0.8618\n",
      "\n",
      "Epoch 5/9\n",
      "----------\n",
      "train Loss: 0.3168 Acc: 0.8842\n",
      "val Loss: 0.3454 Acc: 0.8748\n",
      "\n",
      "Epoch 6/9\n",
      "----------\n",
      "train Loss: 0.3026 Acc: 0.8899\n",
      "val Loss: 0.3330 Acc: 0.8789\n",
      "\n",
      "Epoch 7/9\n",
      "----------\n",
      "train Loss: 0.2907 Acc: 0.8940\n",
      "val Loss: 0.3264 Acc: 0.8809\n",
      "\n",
      "Epoch 8/9\n",
      "----------\n",
      "train Loss: 0.2813 Acc: 0.8970\n",
      "val Loss: 0.3311 Acc: 0.8787\n",
      "\n",
      "Epoch 9/9\n",
      "----------\n",
      "train Loss: 0.2706 Acc: 0.9012\n",
      "val Loss: 0.3069 Acc: 0.8872\n",
      "\n",
      "Training complete in 2m 23s\n",
      "Best val Acc: 0.887200\n"
     ]
    }
   ],
   "source": [
    "# train the model\n",
    "batch_size = 32\n",
    "train_data_loader = torch.utils.data.DataLoader(dataset,\n",
    "                                    batch_size=batch_size,\n",
    "                                    shuffle=True)\n",
    "val_data_loader = torch.utils.data.DataLoader(val_dataset,\n",
    "                                    batch_size=batch_size,\n",
    "                                    shuffle=True)\n",
    "\n",
    "dataloaders = {'train':train_data_loader, \"val\": val_data_loader}\n",
    "criterion = nn.CrossEntropyLoss()\n",
    "\n",
    "trained_model, val_acc = train_model(cnn, dataloaders, criterion, feature_extract=False, num_epochs=10)"
   ]
  },
  {
   "cell_type": "code",
   "execution_count": 13,
   "metadata": {},
   "outputs": [
    {
     "data": {
      "image/png": "[encoded data removed]",
      "text/plain": [
       "<Figure size 432x288 with 1 Axes>"
      ]
     },
     "metadata": {
      "needs_background": "light"
     },
     "output_type": "display_data"
    },
    {
     "data": {
      "image/png": "[encoded data removed]",
      "text/plain": [
       "<Figure size 432x288 with 6 Axes>"
      ]
     },
     "metadata": {
      "needs_background": "light"
     },
     "output_type": "display_data"
    }
   ],
   "source": [
    "# Visualize validation loss and some predictions\n",
    "plt.plot(range(len(val_acc)), val_acc)\n",
    "plt.title(\"Val Accuracy for basic CNN\")\n",
    "plt.show()\n",
    "\n",
    "visualize_model(trained_model, dataloaders, num_images=6)"
   ]
  },
  {
   "cell_type": "markdown",
   "metadata": {},
   "source": [
    "## Your observations here\n",
    "How does the basic CNN perform? Was this what you expected?\n",
    "\n",
    "### Solution\n",
    "This model performs fairly well, achieving around 90% accuracy by the 10th epoch."
   ]
  },
  {
   "cell_type": "markdown",
   "metadata": {},
   "source": [
    "# Part c\n",
    "Now we will use a pre-trained model with no fine-tuning. Because we will not be fine-tuning the model, we are not going to change the input or output size. This is possible because we are using a resnet18 that is pre-trained on CIFAR-10, which happens to have the same number of classes as our new dataset. \n",
    "\n",
    "Run the cell below to examine the architecture of our pre-trained model. What do you notice?"
   ]
  },
  {
   "cell_type": "code",
   "execution_count": 14,
   "metadata": {
    "scrolled": true
   },
   "outputs": [
    {
     "name": "stdout",
     "output_type": "stream",
     "text": [
      "ResNet(\n",
      "  (conv1): Conv2d(3, 64, kernel_size=(3, 3), stride=(1, 1), padding=(1, 1), bias=False)\n",
      "  (bn1): BatchNorm2d(64, eps=1e-05, momentum=0.1, affine=True, track_running_stats=True)\n",
      "  (relu): ReLU(inplace=True)\n",
      "  (maxpool): MaxPool2d(kernel_size=3, stride=2, padding=1, dilation=1, ceil_mode=False)\n",
      "  (layer1): Sequential(\n",
      "    (0): BasicBlock(\n",
      "      (conv1): Conv2d(64, 64, kernel_size=(3, 3), stride=(1, 1), padding=(1, 1), bias=False)\n",
      "      (bn1): BatchNorm2d(64, eps=1e-05, momentum=0.1, affine=True, track_running_stats=True)\n",
      "      (relu): ReLU(inplace=True)\n",
      "      (conv2): Conv2d(64, 64, kernel_size=(3, 3), stride=(1, 1), padding=(1, 1), bias=False)\n",
      "      (bn2): BatchNorm2d(64, eps=1e-05, momentum=0.1, affine=True, track_running_stats=True)\n",
      "    )\n",
      "    (1): BasicBlock(\n",
      "      (conv1): Conv2d(64, 64, kernel_size=(3, 3), stride=(1, 1), padding=(1, 1), bias=False)\n",
      "      (bn1): BatchNorm2d(64, eps=1e-05, momentum=0.1, affine=True, track_running_stats=True)\n",
      "      (relu): ReLU(inplace=True)\n",
      "      (conv2): Conv2d(64, 64, kernel_size=(3, 3), stride=(1, 1), padding=(1, 1), bias=False)\n",
      "      (bn2): BatchNorm2d(64, eps=1e-05, momentum=0.1, affine=True, track_running_stats=True)\n",
      "    )\n",
      "  )\n",
      "  (layer2): Sequential(\n",
      "    (0): BasicBlock(\n",
      "      (conv1): Conv2d(64, 128, kernel_size=(3, 3), stride=(2, 2), padding=(1, 1), bias=False)\n",
      "      (bn1): BatchNorm2d(128, eps=1e-05, momentum=0.1, affine=True, track_running_stats=True)\n",
      "      (relu): ReLU(inplace=True)\n",
      "      (conv2): Conv2d(128, 128, kernel_size=(3, 3), stride=(1, 1), padding=(1, 1), bias=False)\n",
      "      (bn2): BatchNorm2d(128, eps=1e-05, momentum=0.1, affine=True, track_running_stats=True)\n",
      "      (downsample): Sequential(\n",
      "        (0): Conv2d(64, 128, kernel_size=(1, 1), stride=(2, 2), bias=False)\n",
      "        (1): BatchNorm2d(128, eps=1e-05, momentum=0.1, affine=True, track_running_stats=True)\n",
      "      )\n",
      "    )\n",
      "    (1): BasicBlock(\n",
      "      (conv1): Conv2d(128, 128, kernel_size=(3, 3), stride=(1, 1), padding=(1, 1), bias=False)\n",
      "      (bn1): BatchNorm2d(128, eps=1e-05, momentum=0.1, affine=True, track_running_stats=True)\n",
      "      (relu): ReLU(inplace=True)\n",
      "      (conv2): Conv2d(128, 128, kernel_size=(3, 3), stride=(1, 1), padding=(1, 1), bias=False)\n",
      "      (bn2): BatchNorm2d(128, eps=1e-05, momentum=0.1, affine=True, track_running_stats=True)\n",
      "    )\n",
      "  )\n",
      "  (layer3): Sequential(\n",
      "    (0): BasicBlock(\n",
      "      (conv1): Conv2d(128, 256, kernel_size=(3, 3), stride=(2, 2), padding=(1, 1), bias=False)\n",
      "      (bn1): BatchNorm2d(256, eps=1e-05, momentum=0.1, affine=True, track_running_stats=True)\n",
      "      (relu): ReLU(inplace=True)\n",
      "      (conv2): Conv2d(256, 256, kernel_size=(3, 3), stride=(1, 1), padding=(1, 1), bias=False)\n",
      "      (bn2): BatchNorm2d(256, eps=1e-05, momentum=0.1, affine=True, track_running_stats=True)\n",
      "      (downsample): Sequential(\n",
      "        (0): Conv2d(128, 256, kernel_size=(1, 1), stride=(2, 2), bias=False)\n",
      "        (1): BatchNorm2d(256, eps=1e-05, momentum=0.1, affine=True, track_running_stats=True)\n",
      "      )\n",
      "    )\n",
      "    (1): BasicBlock(\n",
      "      (conv1): Conv2d(256, 256, kernel_size=(3, 3), stride=(1, 1), padding=(1, 1), bias=False)\n",
      "      (bn1): BatchNorm2d(256, eps=1e-05, momentum=0.1, affine=True, track_running_stats=True)\n",
      "      (relu): ReLU(inplace=True)\n",
      "      (conv2): Conv2d(256, 256, kernel_size=(3, 3), stride=(1, 1), padding=(1, 1), bias=False)\n",
      "      (bn2): BatchNorm2d(256, eps=1e-05, momentum=0.1, affine=True, track_running_stats=True)\n",
      "    )\n",
      "  )\n",
      "  (layer4): Sequential(\n",
      "    (0): BasicBlock(\n",
      "      (conv1): Conv2d(256, 512, kernel_size=(3, 3), stride=(2, 2), padding=(1, 1), bias=False)\n",
      "      (bn1): BatchNorm2d(512, eps=1e-05, momentum=0.1, affine=True, track_running_stats=True)\n",
      "      (relu): ReLU(inplace=True)\n",
      "      (conv2): Conv2d(512, 512, kernel_size=(3, 3), stride=(1, 1), padding=(1, 1), bias=False)\n",
      "      (bn2): BatchNorm2d(512, eps=1e-05, momentum=0.1, affine=True, track_running_stats=True)\n",
      "      (downsample): Sequential(\n",
      "        (0): Conv2d(256, 512, kernel_size=(1, 1), stride=(2, 2), bias=False)\n",
      "        (1): BatchNorm2d(512, eps=1e-05, momentum=0.1, affine=True, track_running_stats=True)\n",
      "      )\n",
      "    )\n",
      "    (1): BasicBlock(\n",
      "      (conv1): Conv2d(512, 512, kernel_size=(3, 3), stride=(1, 1), padding=(1, 1), bias=False)\n",
      "      (bn1): BatchNorm2d(512, eps=1e-05, momentum=0.1, affine=True, track_running_stats=True)\n",
      "      (relu): ReLU(inplace=True)\n",
      "      (conv2): Conv2d(512, 512, kernel_size=(3, 3), stride=(1, 1), padding=(1, 1), bias=False)\n",
      "      (bn2): BatchNorm2d(512, eps=1e-05, momentum=0.1, affine=True, track_running_stats=True)\n",
      "    )\n",
      "  )\n",
      "  (avgpool): AdaptiveAvgPool2d(output_size=(1, 1))\n",
      "  (fc): Linear(in_features=512, out_features=10, bias=True)\n",
      ")\n"
     ]
    }
   ],
   "source": [
    "# TODO print out resnet-18\n",
    "resnet = resnet18(pretrained=True).eval()\n",
    "print(resnet)\n",
    "# end of TODO"
   ]
  },
  {
   "cell_type": "markdown",
   "metadata": {},
   "source": [
    "## Your observations here\n",
    "How does this model compare to our previous one? Do you see any problems with the existing architecture?\n",
    "\n",
    "### Solution\n",
    "This model is much larger than our previous one. In addition, this model takes in a 3 channel image, but our images are only one channel.\n"
   ]
  },
  {
   "cell_type": "markdown",
   "metadata": {},
   "source": [
    "Run the cells below to see the accuracy of the pre-trained model on our data. This will take around 5 minutes. Make sure to read through the code to understand what is going on."
   ]
  },
  {
   "cell_type": "code",
   "execution_count": 17,
   "metadata": {},
   "outputs": [],
   "source": [
    "def prediction_accuracy(model, dataloaders):\n",
    "    \"\"\"Computes accuracy on train and validation set\"\"\"\n",
    "    since = time.time()\n",
    "    \n",
    "    model.eval()   # Set model to evaluate mode\n",
    "    \n",
    "    # Useful if your environment supports CUDA; don't worry about it if it doesn't\n",
    "    device = torch.device(\"cuda:0\" if torch.cuda.is_available() else \"cpu\")\n",
    "    model = model.to(device)\n",
    "    \n",
    "    loss = {}\n",
    "    acc = {}\n",
    "    \n",
    "    with torch.no_grad():\n",
    "        for phase in ['train', 'val']:\n",
    "            running_corrects = 0\n",
    "\n",
    "            # Iterate over data.\n",
    "            for inputs, labels in dataloaders[phase]:\n",
    "                inputs, labels = inputs.to(device), labels.to(device)\n",
    "                # forward\n",
    "                outputs = model(inputs)\n",
    "                _, preds = torch.max(outputs, 1)\n",
    "                \n",
    "                # statistics\n",
    "                running_corrects += torch.sum(preds == labels.data)\n",
    "\n",
    "            acc[phase] = running_corrects.double() / len(dataloaders[phase].dataset)\n",
    "\n",
    "\n",
    "    time_elapsed = time.time() - since\n",
    "    print('Inference complete in {:.0f}m {:.0f}s'.format(time_elapsed // 60, time_elapsed % 60))\n",
    "    print(\"Training Accuracy: \", acc['train'], \"Validation Accuracy: \", acc['val'])\n",
    "    \n",
    "    return acc"
   ]
  },
  {
   "cell_type": "code",
   "execution_count": 18,
   "metadata": {
    "scrolled": true
   },
   "outputs": [
    {
     "name": "stdout",
     "output_type": "stream",
     "text": [
      "Inference complete in 0m 14s\n",
      "Training Accuracy:  tensor(0.0867, device='cuda:0', dtype=torch.float64) Validation Accuracy:  tensor(0.0846, device='cuda:0', dtype=torch.float64)\n"
     ]
    },
    {
     "data": {
      "image/png": "[encoded data removed]",
      "text/plain": [
       "<Figure size 432x288 with 6 Axes>"
      ]
     },
     "metadata": {
      "needs_background": "light"
     },
     "output_type": "display_data"
    }
   ],
   "source": [
    "batch_size = 64\n",
    "\n",
    "# as you may have noticed in the previous part, the pre-trained resnet takes in 3 \n",
    "# channel images and our data has only one channel, to circumvent this, we stack\n",
    "# the single channel 3 times before passing it through our model\n",
    "trfms = transforms.Compose([transforms.ToTensor(),\n",
    "                            transforms.Lambda(lambda x: x.repeat(3, 1, 1)),\n",
    "                            transforms.Normalize([0.4914, 0.4822, 0.4466], [0.2470, 0.2435, 0.2616]),\n",
    "                            ])\n",
    "\n",
    "# create datasets with transformations\n",
    "dataset = torchvision.datasets.FashionMNIST('data', transform=trfms, download=True)\n",
    "val_dataset = torchvision.datasets.FashionMNIST('data', transform=trfms, train=False, download=True)\n",
    "\n",
    "# create dataloaders for training loop\n",
    "train_data_loader = torch.utils.data.DataLoader(dataset,\n",
    "                                    batch_size=batch_size,\n",
    "                                    shuffle=True)\n",
    "\n",
    "val_data_loader = torch.utils.data.DataLoader(val_dataset,\n",
    "                                    batch_size=batch_size,\n",
    "                                    shuffle=True)\n",
    "dataloaders = {'train':train_data_loader, \"val\": val_data_loader}\n",
    "\n",
    "acc = prediction_accuracy(resnet, dataloaders)\n",
    "visualize_model(resnet, dataloaders, num_images=6)"
   ]
  },
  {
   "cell_type": "markdown",
   "metadata": {},
   "source": [
    "## Your observations here\n",
    "How does this performance compare to your basic CNN? Why is this the case? Is this what you expected?\n",
    "\n",
    "### Solution\n",
    "This does not work at all. The accuracy is in fact worse than guessing at random. This is because we have not done any fine-tuning to our model and it was trained for a very different task. That is to say, this model is predicting the 10 cifar-10 classes and not the actual classes that we intend. This is why fine-tuning is very important."
   ]
  },
  {
   "cell_type": "markdown",
   "metadata": {},
   "source": [
    "# Part d\n",
    "Now we will fine-tune our model on our new dataset by unfreezing just the last layer of our model. This part may look similar to the previous question, but is one of the most important concepts when using pre-trained models so it is good to get some practice with this.\n",
    "\n",
    "First, let's freeze all of the layers except the last layer."
   ]
  },
  {
   "cell_type": "code",
   "execution_count": 19,
   "metadata": {
    "scrolled": false
   },
   "outputs": [
    {
     "name": "stdout",
     "output_type": "stream",
     "text": [
      "ResNet(\n",
      "  (conv1): Conv2d(3, 64, kernel_size=(3, 3), stride=(1, 1), padding=(1, 1), bias=False)\n",
      "  (bn1): BatchNorm2d(64, eps=1e-05, momentum=0.1, affine=True, track_running_stats=True)\n",
      "  (relu): ReLU(inplace=True)\n",
      "  (maxpool): MaxPool2d(kernel_size=3, stride=2, padding=1, dilation=1, ceil_mode=False)\n",
      "  (layer1): Sequential(\n",
      "    (0): BasicBlock(\n",
      "      (conv1): Conv2d(64, 64, kernel_size=(3, 3), stride=(1, 1), padding=(1, 1), bias=False)\n",
      "      (bn1): BatchNorm2d(64, eps=1e-05, momentum=0.1, affine=True, track_running_stats=True)\n",
      "      (relu): ReLU(inplace=True)\n",
      "      (conv2): Conv2d(64, 64, kernel_size=(3, 3), stride=(1, 1), padding=(1, 1), bias=False)\n",
      "      (bn2): BatchNorm2d(64, eps=1e-05, momentum=0.1, affine=True, track_running_stats=True)\n",
      "    )\n",
      "    (1): BasicBlock(\n",
      "      (conv1): Conv2d(64, 64, kernel_size=(3, 3), stride=(1, 1), padding=(1, 1), bias=False)\n",
      "      (bn1): BatchNorm2d(64, eps=1e-05, momentum=0.1, affine=True, track_running_stats=True)\n",
      "      (relu): ReLU(inplace=True)\n",
      "      (conv2): Conv2d(64, 64, kernel_size=(3, 3), stride=(1, 1), padding=(1, 1), bias=False)\n",
      "      (bn2): BatchNorm2d(64, eps=1e-05, momentum=0.1, affine=True, track_running_stats=True)\n",
      "    )\n",
      "  )\n",
      "  (layer2): Sequential(\n",
      "    (0): BasicBlock(\n",
      "      (conv1): Conv2d(64, 128, kernel_size=(3, 3), stride=(2, 2), padding=(1, 1), bias=False)\n",
      "      (bn1): BatchNorm2d(128, eps=1e-05, momentum=0.1, affine=True, track_running_stats=True)\n",
      "      (relu): ReLU(inplace=True)\n",
      "      (conv2): Conv2d(128, 128, kernel_size=(3, 3), stride=(1, 1), padding=(1, 1), bias=False)\n",
      "      (bn2): BatchNorm2d(128, eps=1e-05, momentum=0.1, affine=True, track_running_stats=True)\n",
      "      (downsample): Sequential(\n",
      "        (0): Conv2d(64, 128, kernel_size=(1, 1), stride=(2, 2), bias=False)\n",
      "        (1): BatchNorm2d(128, eps=1e-05, momentum=0.1, affine=True, track_running_stats=True)\n",
      "      )\n",
      "    )\n",
      "    (1): BasicBlock(\n",
      "      (conv1): Conv2d(128, 128, kernel_size=(3, 3), stride=(1, 1), padding=(1, 1), bias=False)\n",
      "      (bn1): BatchNorm2d(128, eps=1e-05, momentum=0.1, affine=True, track_running_stats=True)\n",
      "      (relu): ReLU(inplace=True)\n",
      "      (conv2): Conv2d(128, 128, kernel_size=(3, 3), stride=(1, 1), padding=(1, 1), bias=False)\n",
      "      (bn2): BatchNorm2d(128, eps=1e-05, momentum=0.1, affine=True, track_running_stats=True)\n",
      "    )\n",
      "  )\n",
      "  (layer3): Sequential(\n",
      "    (0): BasicBlock(\n",
      "      (conv1): Conv2d(128, 256, kernel_size=(3, 3), stride=(2, 2), padding=(1, 1), bias=False)\n",
      "      (bn1): BatchNorm2d(256, eps=1e-05, momentum=0.1, affine=True, track_running_stats=True)\n",
      "      (relu): ReLU(inplace=True)\n",
      "      (conv2): Conv2d(256, 256, kernel_size=(3, 3), stride=(1, 1), padding=(1, 1), bias=False)\n",
      "      (bn2): BatchNorm2d(256, eps=1e-05, momentum=0.1, affine=True, track_running_stats=True)\n",
      "      (downsample): Sequential(\n",
      "        (0): Conv2d(128, 256, kernel_size=(1, 1), stride=(2, 2), bias=False)\n",
      "        (1): BatchNorm2d(256, eps=1e-05, momentum=0.1, affine=True, track_running_stats=True)\n",
      "      )\n",
      "    )\n",
      "    (1): BasicBlock(\n",
      "      (conv1): Conv2d(256, 256, kernel_size=(3, 3), stride=(1, 1), padding=(1, 1), bias=False)\n",
      "      (bn1): BatchNorm2d(256, eps=1e-05, momentum=0.1, affine=True, track_running_stats=True)\n",
      "      (relu): ReLU(inplace=True)\n",
      "      (conv2): Conv2d(256, 256, kernel_size=(3, 3), stride=(1, 1), padding=(1, 1), bias=False)\n",
      "      (bn2): BatchNorm2d(256, eps=1e-05, momentum=0.1, affine=True, track_running_stats=True)\n",
      "    )\n",
      "  )\n",
      "  (layer4): Sequential(\n",
      "    (0): BasicBlock(\n",
      "      (conv1): Conv2d(256, 512, kernel_size=(3, 3), stride=(2, 2), padding=(1, 1), bias=False)\n",
      "      (bn1): BatchNorm2d(512, eps=1e-05, momentum=0.1, affine=True, track_running_stats=True)\n",
      "      (relu): ReLU(inplace=True)\n",
      "      (conv2): Conv2d(512, 512, kernel_size=(3, 3), stride=(1, 1), padding=(1, 1), bias=False)\n",
      "      (bn2): BatchNorm2d(512, eps=1e-05, momentum=0.1, affine=True, track_running_stats=True)\n",
      "      (downsample): Sequential(\n",
      "        (0): Conv2d(256, 512, kernel_size=(1, 1), stride=(2, 2), bias=False)\n",
      "        (1): BatchNorm2d(512, eps=1e-05, momentum=0.1, affine=True, track_running_stats=True)\n",
      "      )\n",
      "    )\n",
      "    (1): BasicBlock(\n",
      "      (conv1): Conv2d(512, 512, kernel_size=(3, 3), stride=(1, 1), padding=(1, 1), bias=False)\n",
      "      (bn1): BatchNorm2d(512, eps=1e-05, momentum=0.1, affine=True, track_running_stats=True)\n",
      "      (relu): ReLU(inplace=True)\n",
      "      (conv2): Conv2d(512, 512, kernel_size=(3, 3), stride=(1, 1), padding=(1, 1), bias=False)\n",
      "      (bn2): BatchNorm2d(512, eps=1e-05, momentum=0.1, affine=True, track_running_stats=True)\n",
      "    )\n",
      "  )\n",
      "  (avgpool): AdaptiveAvgPool2d(output_size=(1, 1))\n",
      "  (fc): Linear(in_features=512, out_features=10, bias=True)\n",
      ")\n"
     ]
    }
   ],
   "source": [
    "finetuned_resnet = resnet18(pretrained=True).eval()\n",
    "\n",
    "# TODO freeze all layers\n",
    "for params in finetuned_resnet.parameters():\n",
    "    params.requires_grad = False\n",
    "# End TODO\n",
    "\n",
    "# TODO re-initilize the last layer\n",
    "finetuned_resnet.fc = nn.Linear(finetuned_resnet.fc.in_features, 10)\n",
    "# End TODO\n",
    "\n",
    "print(finetuned_resnet)"
   ]
  },
  {
   "cell_type": "markdown",
   "metadata": {},
   "source": [
    "Now let's train our model on our new task. Run the cells below. This will take around an hour to run 10 epochs. You may use 5 epochs but you may not get as good results."
   ]
  },
  {
   "cell_type": "code",
   "execution_count": 20,
   "metadata": {
    "scrolled": false
   },
   "outputs": [
    {
     "name": "stdout",
     "output_type": "stream",
     "text": [
      "Params to learn:\n",
      "\t fc.weight\n",
      "\t fc.bias\n",
      "Epoch 0/9\n",
      "----------\n",
      "train Loss: 1.8316 Acc: 0.3750\n",
      "val Loss: 1.6771 Acc: 0.4136\n",
      "\n",
      "Epoch 1/9\n",
      "----------\n",
      "train Loss: 1.6220 Acc: 0.4269\n",
      "val Loss: 1.6010 Acc: 0.4311\n",
      "\n",
      "Epoch 2/9\n",
      "----------\n",
      "train Loss: 1.5707 Acc: 0.4410\n",
      "val Loss: 1.5665 Acc: 0.4457\n",
      "\n",
      "Epoch 3/9\n",
      "----------\n",
      "train Loss: 1.5436 Acc: 0.4543\n",
      "val Loss: 1.5453 Acc: 0.4535\n",
      "\n",
      "Epoch 4/9\n",
      "----------\n",
      "train Loss: 1.5256 Acc: 0.4627\n",
      "val Loss: 1.5301 Acc: 0.4590\n",
      "\n",
      "Epoch 5/9\n",
      "----------\n",
      "train Loss: 1.5125 Acc: 0.4686\n",
      "val Loss: 1.5186 Acc: 0.4656\n",
      "\n",
      "Epoch 6/9\n",
      "----------\n",
      "train Loss: 1.5021 Acc: 0.4741\n",
      "val Loss: 1.5092 Acc: 0.4698\n",
      "\n",
      "Epoch 7/9\n",
      "----------\n",
      "train Loss: 1.4936 Acc: 0.4780\n",
      "val Loss: 1.5016 Acc: 0.4748\n",
      "\n",
      "Epoch 8/9\n",
      "----------\n",
      "train Loss: 1.4864 Acc: 0.4813\n",
      "val Loss: 1.4950 Acc: 0.4791\n",
      "\n",
      "Epoch 9/9\n",
      "----------\n",
      "train Loss: 1.4801 Acc: 0.4846\n",
      "val Loss: 1.4892 Acc: 0.4818\n",
      "\n",
      "Training complete in 3m 14s\n",
      "Best val Acc: 0.481800\n"
     ]
    }
   ],
   "source": [
    "# train the model\n",
    "finetuned_resnet, val_acc_resnet = train_model(finetuned_resnet, dataloaders, criterion, num_epochs=10)"
   ]
  },
  {
   "cell_type": "code",
   "execution_count": 21,
   "metadata": {},
   "outputs": [
    {
     "data": {
      "image/png": "[encoded data removed]",
      "text/plain": [
       "<Figure size 432x288 with 1 Axes>"
      ]
     },
     "metadata": {
      "needs_background": "light"
     },
     "output_type": "display_data"
    },
    {
     "data": {
      "image/png": "[encoded data removed]",
      "text/plain": [
       "<Figure size 432x288 with 6 Axes>"
      ]
     },
     "metadata": {
      "needs_background": "light"
     },
     "output_type": "display_data"
    }
   ],
   "source": [
    "# Visualize validation loss and some predictions\n",
    "plt.plot(range(len(val_acc_resnet)), val_acc_resnet)\n",
    "plt.title(\"Val Accuracy for Fine-tuned Resnet-18\")\n",
    "plt.show()\n",
    "\n",
    "visualize_model(finetuned_resnet, dataloaders, num_images=6)"
   ]
  },
  {
   "cell_type": "markdown",
   "metadata": {},
   "source": [
    "## Your observations here\n",
    "How does this performance compare to your basic CNN and the pre-trained model without fine-tuning? Why is this the case? Is this what you expected? \n",
    "\n",
    "### Solution\n",
    "After fine-tuning for 10 epochs, the accuracy is around 50%. This is a lot better than before, but is not nearly as good as the basic CNN. The validation accuracy was going up steadily throughout the 10 epochs, so it may reach the same accuracy as the basic CNN after being trained for awhile, but this is diminishing returns since it takes so long to train. Thus we must look for a better option.\n",
    "\n",
    "The reason for this behaviour is probably due to the large difference between CIFAR-10 and Fashion-MNIST. Fashion-MNIST has black and white images and all contain black backgrounds. These are very different than CIFAR-10 as those are all natural images."
   ]
  },
  {
   "cell_type": "markdown",
   "metadata": {},
   "source": [
    "# Part e\n",
    "Now we will try a combination of the previous approaches by using a pre-trained model as a feature extractor and train a basic CNN using these features. This is similar in spirit to fine-tuning more (or all) layers of our pre-trained model, however this would take quite a long time and thus we opt for a quicker approach for demonstration purposes. \n",
    "\n",
    "The idea here is that the features from lower levels of our pre-trained network are more generalizable and can transfer across different tasks better."
   ]
  },
  {
   "cell_type": "code",
   "execution_count": 22,
   "metadata": {},
   "outputs": [],
   "source": [
    "class FeaturizedConvNet(ConvNet):\n",
    "    def __init__(self, num_classes, input_width, input_height, num_channels, num_layers=2, num_filters=[10, 20], kernel_sizes=[5, 5], pool=[True, True]):\n",
    "        # instantiate ConvNet with input sizes (64, 14, 14) since this is the shape\n",
    "        # of the extracted features. the kernel sizes are smaller because of the smaller shape\n",
    "        super().__init__(num_classes, 14, 14, 64, kernel_sizes=[3, 3])\n",
    "        \n",
    "        resnet = resnet18(pretrained=True).eval()\n",
    "        # freeze all layers in resnet\n",
    "        for params in resnet.parameters():\n",
    "            params.requires_grad = False\n",
    "        \n",
    "        # use first 5 layers as feature extractor\n",
    "        self.features = nn.Sequential(\n",
    "            *list(resnet.children())[:-5]\n",
    "        )\n",
    "\n",
    "    def forward(self, x):\n",
    "        # obtain features from resnet before passing through convnet\n",
    "        x = self.features(x)\n",
    "        return super().forward(x)\n",
    "\n",
    "feature_extracted_cnn = FeaturizedConvNet(10, 28, 28, 3)"
   ]
  },
  {
   "cell_type": "markdown",
   "metadata": {},
   "source": [
    "Run the cell below to train a your model with feature extraction. This should take about 15 minutes for 10 epochs."
   ]
  },
  {
   "cell_type": "code",
   "execution_count": 23,
   "metadata": {
    "scrolled": false
   },
   "outputs": [
    {
     "name": "stdout",
     "output_type": "stream",
     "text": [
      "Params to learn:\n",
      "\t convs.0.weight\n",
      "\t convs.0.bias\n",
      "\t convs.3.weight\n",
      "\t convs.3.bias\n",
      "\t fc1.weight\n",
      "\t fc1.bias\n",
      "\t fc2.weight\n",
      "\t fc2.bias\n",
      "Epoch 0/9\n",
      "----------\n",
      "train Loss: 2.3018 Acc: 0.1190\n",
      "val Loss: 2.2993 Acc: 0.1425\n",
      "\n",
      "Epoch 1/9\n",
      "----------\n",
      "train Loss: 2.2926 Acc: 0.2375\n",
      "val Loss: 2.2761 Acc: 0.2536\n",
      "\n",
      "Epoch 2/9\n",
      "----------\n",
      "train Loss: 1.9908 Acc: 0.3461\n",
      "val Loss: 1.4314 Acc: 0.5225\n",
      "\n",
      "Epoch 3/9\n",
      "----------\n",
      "train Loss: 1.1283 Acc: 0.6088\n",
      "val Loss: 0.9191 Acc: 0.6935\n",
      "\n",
      "Epoch 4/9\n",
      "----------\n",
      "train Loss: 0.7866 Acc: 0.7279\n",
      "val Loss: 0.6814 Acc: 0.7657\n",
      "\n",
      "Epoch 5/9\n",
      "----------\n",
      "train Loss: 0.6158 Acc: 0.7828\n",
      "val Loss: 0.5748 Acc: 0.8003\n",
      "\n",
      "Epoch 6/9\n",
      "----------\n",
      "train Loss: 0.5359 Acc: 0.8086\n",
      "val Loss: 0.5205 Acc: 0.8194\n",
      "\n",
      "Epoch 7/9\n",
      "----------\n",
      "train Loss: 0.4855 Acc: 0.8254\n",
      "val Loss: 0.4931 Acc: 0.8228\n",
      "\n",
      "Epoch 8/9\n",
      "----------\n",
      "train Loss: 0.4510 Acc: 0.8387\n",
      "val Loss: 0.4576 Acc: 0.8366\n",
      "\n",
      "Epoch 9/9\n",
      "----------\n",
      "train Loss: 0.4255 Acc: 0.8474\n",
      "val Loss: 0.4312 Acc: 0.8471\n",
      "\n",
      "Training complete in 2m 26s\n",
      "Best val Acc: 0.847100\n"
     ]
    }
   ],
   "source": [
    "# train the model\n",
    "trained_feature_cnn, val_acc_feature_cnn = train_model(feature_extracted_cnn, dataloaders, criterion, num_epochs=10)"
   ]
  },
  {
   "cell_type": "code",
   "execution_count": 24,
   "metadata": {},
   "outputs": [
    {
     "data": {
      "image/png": "[encoded data removed]",
      "text/plain": [
       "<Figure size 432x288 with 1 Axes>"
      ]
     },
     "metadata": {
      "needs_background": "light"
     },
     "output_type": "display_data"
    },
    {
     "data": {
      "image/png": "[encoded data removed]",
      "text/plain": [
       "<Figure size 432x288 with 6 Axes>"
      ]
     },
     "metadata": {
      "needs_background": "light"
     },
     "output_type": "display_data"
    }
   ],
   "source": [
    "# Visualize validation loss and some predictions\n",
    "plt.plot(range(len(val_acc_feature_cnn)), val_acc_feature_cnn)\n",
    "plt.title(\"Val Accuracy for CNN with ResNet features\")\n",
    "plt.show()\n",
    "\n",
    "visualize_model(trained_feature_cnn, dataloaders, num_images=6)"
   ]
  },
  {
   "cell_type": "markdown",
   "metadata": {},
   "source": [
    "## Your observations here\n",
    "How does this performance compare to the previous models? Why is this the case? Is this what you expected?\n",
    "\n",
    "\n",
    "### Solutions\n",
    "This performs slightly better than the basic CNN. Another benefit is that we gain a fairly high accuracy very early on in training, whereas the accuracy for the basic CNN showed a more gradual trend towards 90% accuracy. This shows the power of the features extracted from resnet. We have seen the benefit of these features from previous sections, and now we see how these can still be useful even when the dataset is very different than the domain it was trained on. This goes to show how well these features have generalized, especially at earlier layers in the network.\n",
    "\n",
    "\n",
    "## Final Takeaways\n",
    "What are the main takeaways from this notebook? Which method achieved the highest accuracy? Why was this/How did the dataset and task impact performance? Compare and contrast this to what you have learned in problems 1 and 2. \n",
    "\n",
    "## Solution\n",
    "The main takeaway from this notebook is that there are many use cases for pre-trained models, but this is not a \"one-size fits all\" solution. How we can use pre-trained models depends very heavily on the task that we are trying to achieve and the model we are trying to use. Hopefullly the fine-tuning section showed how detrimental it can be to try to use a pre-trained model without fully understanding what is going on under the hood. Furthermore, this yields a better understanding for the difference between earlier/later layers in Resnet and other pre-trained models that one can use."
   ]
  }
 ],
 "metadata": {
  "kernelspec": {
   "display_name": "Python 3",
   "language": "python",
   "name": "python3"
  },
  "language_info": {
   "codemirror_mode": {
    "name": "ipython",
    "version": 3
   },
   "file_extension": ".py",
   "mimetype": "text/x-python",
   "name": "python",
   "nbconvert_exporter": "python",
   "pygments_lexer": "ipython3",
   "version": "3.6.9"
  }
 },
 "nbformat": 4,
 "nbformat_minor": 4
}
