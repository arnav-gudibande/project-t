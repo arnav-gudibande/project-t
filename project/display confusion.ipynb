{
 "cells": [
  {
   "cell_type": "code",
   "execution_count": 1,
   "metadata": {},
   "outputs": [
    {
     "name": "stderr",
     "output_type": "stream",
     "text": [
      "/Users/charliesnell/opt/anaconda3/lib/python3.7/site-packages/statsmodels/tools/_testing.py:19: FutureWarning: pandas.util.testing is deprecated. Use the functions in the public API at pandas.testing instead.\n",
      "  import pandas.util.testing as tm\n"
     ]
    }
   ],
   "source": [
    "from __future__ import print_function\n",
    "from __future__ import division\n",
    "import torch\n",
    "import torch.nn as nn\n",
    "import torch.optim as optim\n",
    "import numpy as np\n",
    "import torchvision\n",
    "from torchvision import datasets, models, transforms\n",
    "import matplotlib.pyplot as plt\n",
    "import time\n",
    "import os\n",
    "import copy\n",
    "\n",
    "from model.my_model import initialize_model, SmallModel, eval_suite\n",
    "from train import get_dataloaders\n",
    "import seaborn as sn\n",
    "import pandas as pd\n",
    "import matplotlib.pyplot as plt"
   ]
  },
  {
   "cell_type": "code",
   "execution_count": 2,
   "metadata": {},
   "outputs": [],
   "source": [
    "device = torch.device('cuda' if torch.cuda.is_available() else 'cpu')"
   ]
  },
  {
   "cell_type": "code",
   "execution_count": 3,
   "metadata": {},
   "outputs": [
    {
     "name": "stdout",
     "output_type": "stream",
     "text": [
      "SmallModel(\n",
      "  (convs): Sequential(\n",
      "    (0): Conv2d(3, 10, kernel_size=(5, 5), stride=(1, 1))\n",
      "    (1): MaxPool2d(kernel_size=2, stride=2, padding=0, dilation=1, ceil_mode=False)\n",
      "    (2): ReLU()\n",
      "    (3): Conv2d(10, 20, kernel_size=(5, 5), stride=(1, 1))\n",
      "    (4): Dropout2d(p=0.5, inplace=False)\n",
      "    (5): MaxPool2d(kernel_size=2, stride=2, padding=0, dilation=1, ceil_mode=False)\n",
      "    (6): ReLU()\n",
      "  )\n",
      "  (fc1): Linear(in_features=500, out_features=500, bias=True)\n",
      "  (fc2): Linear(in_features=500, out_features=10, bias=True)\n",
      ")\n",
      "Files already downloaded and verified\n",
      "Files already downloaded and verified\n"
     ]
    },
    {
     "data": {
      "text/plain": [
       "SmallModel(\n",
       "  (convs): Sequential(\n",
       "    (0): Conv2d(3, 10, kernel_size=(5, 5), stride=(1, 1))\n",
       "    (1): MaxPool2d(kernel_size=2, stride=2, padding=0, dilation=1, ceil_mode=False)\n",
       "    (2): ReLU()\n",
       "    (3): Conv2d(10, 20, kernel_size=(5, 5), stride=(1, 1))\n",
       "    (4): Dropout2d(p=0.5, inplace=False)\n",
       "    (5): MaxPool2d(kernel_size=2, stride=2, padding=0, dilation=1, ceil_mode=False)\n",
       "    (6): ReLU()\n",
       "  )\n",
       "  (fc1): Linear(in_features=500, out_features=500, bias=True)\n",
       "  (fc2): Linear(in_features=500, out_features=10, bias=True)\n",
       ")"
      ]
     },
     "execution_count": 3,
     "metadata": {},
     "output_type": "execute_result"
    }
   ],
   "source": [
    "model_name = 'resnet'\n",
    "num_classes = 10\n",
    "feature_extract = False\n",
    "# model_ft, input_size = initialize_model(model_name, num_classes, feature_extract, use_pretrained=True)\n",
    "model_ft = SmallModel(num_classes, 32, 32, 3)\n",
    "\n",
    "# Print the model we just instantiated\n",
    "print(model_ft)\n",
    "\n",
    "# Data Loaders\n",
    "data_loaders = get_dataloaders('cifar10', 'project/data', 32)\n",
    "model_ft.eval()"
   ]
  },
  {
   "cell_type": "code",
   "execution_count": 4,
   "metadata": {},
   "outputs": [],
   "source": [
    "def collect_val_stats(model, dataloader, label_names):\n",
    "    model.eval()\n",
    "    predicts_history = []\n",
    "    ys_history = []\n",
    "    for inputs, labels in dataloader:\n",
    "        outputs = model(inputs)\n",
    "        _, preds = torch.max(outputs, 1)\n",
    "        predicts_history.extend(preds.clone().detach().cpu().numpy().tolist())\n",
    "        ys_history.extend(labels.clone().detach().cpu().numpy().tolist())\n",
    "    return eval_suite(np.array(predicts_history), np.array(ys_history), label_names)"
   ]
  },
  {
   "cell_type": "code",
   "execution_count": 5,
   "metadata": {},
   "outputs": [
    {
     "name": "stdout",
     "output_type": "stream",
     "text": [
      "{'accuracy': 0.1001, 'confusion_matrix': array([[   0.,    0.,  999.,    0.,    0.,    0.,    0.,    0.,    0.,\n",
      "           1.],\n",
      "       [   0.,    0.,  996.,    0.,    0.,    0.,    0.,    0.,    0.,\n",
      "           4.],\n",
      "       [   0.,    0.,  999.,    0.,    0.,    0.,    0.,    0.,    0.,\n",
      "           1.],\n",
      "       [   0.,    0.,  999.,    0.,    0.,    0.,    0.,    0.,    0.,\n",
      "           1.],\n",
      "       [   0.,    0.,  999.,    0.,    0.,    0.,    0.,    0.,    0.,\n",
      "           1.],\n",
      "       [   0.,    0.,  999.,    0.,    0.,    0.,    0.,    0.,    0.,\n",
      "           1.],\n",
      "       [   0.,    0., 1000.,    0.,    0.,    0.,    0.,    0.,    0.,\n",
      "           0.],\n",
      "       [   0.,    0., 1000.,    0.,    0.,    0.,    0.,    0.,    0.,\n",
      "           0.],\n",
      "       [   0.,    0.,  998.,    0.,    0.,    0.,    0.,    0.,    0.,\n",
      "           2.],\n",
      "       [   0.,    0.,  998.,    0.,    0.,    0.,    0.,    0.,    0.,\n",
      "           2.]]), 'label_names': ['airplane', 'automobile', 'bird', 'cat', 'deer', 'dog', 'frog', 'horse', 'ship', 'truck'], 'fp_fn': [{'FPR': 0.0, 'TPR': 0.0, 'precision': nan, 'recall': 0.0}, {'FPR': 0.0, 'TPR': 0.0, 'precision': nan, 'recall': 0.0}, {'FPR': 0.9986666666666667, 'TPR': 0.999, 'precision': 0.10003003905076599, 'recall': 0.999}, {'FPR': 0.0, 'TPR': 0.0, 'precision': nan, 'recall': 0.0}, {'FPR': 0.0, 'TPR': 0.0, 'precision': nan, 'recall': 0.0}, {'FPR': 0.0, 'TPR': 0.0, 'precision': nan, 'recall': 0.0}, {'FPR': 0.0, 'TPR': 0.0, 'precision': nan, 'recall': 0.0}, {'FPR': 0.0, 'TPR': 0.0, 'precision': nan, 'recall': 0.0}, {'FPR': 0.0, 'TPR': 0.0, 'precision': nan, 'recall': 0.0}, {'FPR': 0.0012222222222222222, 'TPR': 0.002, 'precision': 0.15384615384615385, 'recall': 0.002}]}\n"
     ]
    },
    {
     "name": "stderr",
     "output_type": "stream",
     "text": [
      "/Users/charliesnell/current_projects/project-t/project/model/my_model.py:41: RuntimeWarning: invalid value encountered in double_scalars\n",
      "  precision = TPs / (TPs + FPs)\n"
     ]
    }
   ],
   "source": [
    "evals = collect_val_stats(model_ft, data_loaders['val'], data_loaders['label_names'])\n",
    "print(evals)"
   ]
  },
  {
   "cell_type": "code",
   "execution_count": 6,
   "metadata": {},
   "outputs": [],
   "source": [
    "df_cm = pd.DataFrame(evals['confusion_matrix'], index=evals['label_names'], columns=evals['label_names'])"
   ]
  },
  {
   "cell_type": "code",
   "execution_count": 7,
   "metadata": {},
   "outputs": [
    {
     "data": {
      "text/html": [
       "<div>\n",
       "<style scoped>\n",
       "    .dataframe tbody tr th:only-of-type {\n",
       "        vertical-align: middle;\n",
       "    }\n",
       "\n",
       "    .dataframe tbody tr th {\n",
       "        vertical-align: top;\n",
       "    }\n",
       "\n",
       "    .dataframe thead th {\n",
       "        text-align: right;\n",
       "    }\n",
       "</style>\n",
       "<table border=\"1\" class=\"dataframe\">\n",
       "  <thead>\n",
       "    <tr style=\"text-align: right;\">\n",
       "      <th></th>\n",
       "      <th>airplane</th>\n",
       "      <th>automobile</th>\n",
       "      <th>bird</th>\n",
       "      <th>cat</th>\n",
       "      <th>deer</th>\n",
       "      <th>dog</th>\n",
       "      <th>frog</th>\n",
       "      <th>horse</th>\n",
       "      <th>ship</th>\n",
       "      <th>truck</th>\n",
       "    </tr>\n",
       "  </thead>\n",
       "  <tbody>\n",
       "    <tr>\n",
       "      <th>airplane</th>\n",
       "      <td>0.0</td>\n",
       "      <td>0.0</td>\n",
       "      <td>999.0</td>\n",
       "      <td>0.0</td>\n",
       "      <td>0.0</td>\n",
       "      <td>0.0</td>\n",
       "      <td>0.0</td>\n",
       "      <td>0.0</td>\n",
       "      <td>0.0</td>\n",
       "      <td>1.0</td>\n",
       "    </tr>\n",
       "    <tr>\n",
       "      <th>automobile</th>\n",
       "      <td>0.0</td>\n",
       "      <td>0.0</td>\n",
       "      <td>996.0</td>\n",
       "      <td>0.0</td>\n",
       "      <td>0.0</td>\n",
       "      <td>0.0</td>\n",
       "      <td>0.0</td>\n",
       "      <td>0.0</td>\n",
       "      <td>0.0</td>\n",
       "      <td>4.0</td>\n",
       "    </tr>\n",
       "    <tr>\n",
       "      <th>bird</th>\n",
       "      <td>0.0</td>\n",
       "      <td>0.0</td>\n",
       "      <td>999.0</td>\n",
       "      <td>0.0</td>\n",
       "      <td>0.0</td>\n",
       "      <td>0.0</td>\n",
       "      <td>0.0</td>\n",
       "      <td>0.0</td>\n",
       "      <td>0.0</td>\n",
       "      <td>1.0</td>\n",
       "    </tr>\n",
       "    <tr>\n",
       "      <th>cat</th>\n",
       "      <td>0.0</td>\n",
       "      <td>0.0</td>\n",
       "      <td>999.0</td>\n",
       "      <td>0.0</td>\n",
       "      <td>0.0</td>\n",
       "      <td>0.0</td>\n",
       "      <td>0.0</td>\n",
       "      <td>0.0</td>\n",
       "      <td>0.0</td>\n",
       "      <td>1.0</td>\n",
       "    </tr>\n",
       "    <tr>\n",
       "      <th>deer</th>\n",
       "      <td>0.0</td>\n",
       "      <td>0.0</td>\n",
       "      <td>999.0</td>\n",
       "      <td>0.0</td>\n",
       "      <td>0.0</td>\n",
       "      <td>0.0</td>\n",
       "      <td>0.0</td>\n",
       "      <td>0.0</td>\n",
       "      <td>0.0</td>\n",
       "      <td>1.0</td>\n",
       "    </tr>\n",
       "    <tr>\n",
       "      <th>dog</th>\n",
       "      <td>0.0</td>\n",
       "      <td>0.0</td>\n",
       "      <td>999.0</td>\n",
       "      <td>0.0</td>\n",
       "      <td>0.0</td>\n",
       "      <td>0.0</td>\n",
       "      <td>0.0</td>\n",
       "      <td>0.0</td>\n",
       "      <td>0.0</td>\n",
       "      <td>1.0</td>\n",
       "    </tr>\n",
       "    <tr>\n",
       "      <th>frog</th>\n",
       "      <td>0.0</td>\n",
       "      <td>0.0</td>\n",
       "      <td>1000.0</td>\n",
       "      <td>0.0</td>\n",
       "      <td>0.0</td>\n",
       "      <td>0.0</td>\n",
       "      <td>0.0</td>\n",
       "      <td>0.0</td>\n",
       "      <td>0.0</td>\n",
       "      <td>0.0</td>\n",
       "    </tr>\n",
       "    <tr>\n",
       "      <th>horse</th>\n",
       "      <td>0.0</td>\n",
       "      <td>0.0</td>\n",
       "      <td>1000.0</td>\n",
       "      <td>0.0</td>\n",
       "      <td>0.0</td>\n",
       "      <td>0.0</td>\n",
       "      <td>0.0</td>\n",
       "      <td>0.0</td>\n",
       "      <td>0.0</td>\n",
       "      <td>0.0</td>\n",
       "    </tr>\n",
       "    <tr>\n",
       "      <th>ship</th>\n",
       "      <td>0.0</td>\n",
       "      <td>0.0</td>\n",
       "      <td>998.0</td>\n",
       "      <td>0.0</td>\n",
       "      <td>0.0</td>\n",
       "      <td>0.0</td>\n",
       "      <td>0.0</td>\n",
       "      <td>0.0</td>\n",
       "      <td>0.0</td>\n",
       "      <td>2.0</td>\n",
       "    </tr>\n",
       "    <tr>\n",
       "      <th>truck</th>\n",
       "      <td>0.0</td>\n",
       "      <td>0.0</td>\n",
       "      <td>998.0</td>\n",
       "      <td>0.0</td>\n",
       "      <td>0.0</td>\n",
       "      <td>0.0</td>\n",
       "      <td>0.0</td>\n",
       "      <td>0.0</td>\n",
       "      <td>0.0</td>\n",
       "      <td>2.0</td>\n",
       "    </tr>\n",
       "  </tbody>\n",
       "</table>\n",
       "</div>"
      ],
      "text/plain": [
       "            airplane  automobile    bird  cat  deer  dog  frog  horse  ship  \\\n",
       "airplane         0.0         0.0   999.0  0.0   0.0  0.0   0.0    0.0   0.0   \n",
       "automobile       0.0         0.0   996.0  0.0   0.0  0.0   0.0    0.0   0.0   \n",
       "bird             0.0         0.0   999.0  0.0   0.0  0.0   0.0    0.0   0.0   \n",
       "cat              0.0         0.0   999.0  0.0   0.0  0.0   0.0    0.0   0.0   \n",
       "deer             0.0         0.0   999.0  0.0   0.0  0.0   0.0    0.0   0.0   \n",
       "dog              0.0         0.0   999.0  0.0   0.0  0.0   0.0    0.0   0.0   \n",
       "frog             0.0         0.0  1000.0  0.0   0.0  0.0   0.0    0.0   0.0   \n",
       "horse            0.0         0.0  1000.0  0.0   0.0  0.0   0.0    0.0   0.0   \n",
       "ship             0.0         0.0   998.0  0.0   0.0  0.0   0.0    0.0   0.0   \n",
       "truck            0.0         0.0   998.0  0.0   0.0  0.0   0.0    0.0   0.0   \n",
       "\n",
       "            truck  \n",
       "airplane      1.0  \n",
       "automobile    4.0  \n",
       "bird          1.0  \n",
       "cat           1.0  \n",
       "deer          1.0  \n",
       "dog           1.0  \n",
       "frog          0.0  \n",
       "horse         0.0  \n",
       "ship          2.0  \n",
       "truck         2.0  "
      ]
     },
     "execution_count": 7,
     "metadata": {},
     "output_type": "execute_result"
    }
   ],
   "source": [
    "df_cm"
   ]
  },
  {
   "cell_type": "code",
   "execution_count": 8,
   "metadata": {},
   "outputs": [
    {
     "data": {
      "text/plain": [
       "<matplotlib.axes._subplots.AxesSubplot at 0x7fbf0c743a50>"
      ]
     },
     "execution_count": 8,
     "metadata": {},
     "output_type": "execute_result"
    },
    {
     "data": {
      "image/png": "[encoded data removed]",
      "text/plain": [
       "<Figure size 720x504 with 2 Axes>"
      ]
     },
     "metadata": {
      "needs_background": "light"
     },
     "output_type": "display_data"
    }
   ],
   "source": [
    "plt.figure(figsize = (10,7))\n",
    "sn.heatmap(df_cm, annot=True)"
   ]
  },
  {
   "cell_type": "code",
   "execution_count": null,
   "metadata": {},
   "outputs": [],
   "source": []
  }
 ],
 "metadata": {
  "kernelspec": {
   "display_name": "Python 3",
   "language": "python",
   "name": "python3"
  },
  "language_info": {
   "codemirror_mode": {
    "name": "ipython",
    "version": 3
   },
   "file_extension": ".py",
   "mimetype": "text/x-python",
   "name": "python",
   "nbconvert_exporter": "python",
   "pygments_lexer": "ipython3",
   "version": "3.7.4"
  }
 },
 "nbformat": 4,
 "nbformat_minor": 2
}
